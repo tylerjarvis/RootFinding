{
 "cells": [
  {
   "cell_type": "markdown",
   "metadata": {},
   "source": [
    "## Imports"
   ]
  },
  {
   "cell_type": "code",
   "execution_count": 1,
   "metadata": {
    "collapsed": true
   },
   "outputs": [],
   "source": [
    "#Conda imports\n",
    "import numpy as np\n",
    "from scipy.linalg import lu\n",
    "import random\n",
    "import time\n",
    "import itertools\n",
    "from groebner.groebner_class import Groebner\n",
    "#Local imports\n",
    "from groebner.polynomial import MultiCheb, MultiPower, cheb2poly, poly2cheb\n",
    "from groebner.root_finder import roots\n",
    "from groebner.Macaulay import find_degree, add_polys, Macaulay\n",
    "\n",
    "%matplotlib inline\n",
    "\n",
    "# Auto-reload packages\n",
    "%load_ext autoreload\n",
    "%autoreload 2"
   ]
  },
  {
   "cell_type": "markdown",
   "metadata": {},
   "source": [
    "#### A helper Function"
   ]
  },
  {
   "cell_type": "code",
   "execution_count": 2,
   "metadata": {
    "collapsed": true
   },
   "outputs": [],
   "source": [
    "def polyList(deg,dim,power,Type = 'random'):\n",
    "    deg += 1\n",
    "    if Type == 'random':\n",
    "        ACoeff = np.random.random_sample(deg*np.ones(dim, dtype = int))\n",
    "        BCoeff = np.random.random_sample(deg*np.ones(dim, dtype = int))\n",
    "        CCoeff = np.random.random_sample(deg*np.ones(dim, dtype = int))\n",
    "        DCoeff = np.random.random_sample(deg*np.ones(dim, dtype = int))\n",
    "        ECoeff = np.random.random_sample(deg*np.ones(dim, dtype = int))\n",
    "        FCoeff = np.random.random_sample(deg*np.ones(dim, dtype = int))\n",
    "        GCoeff = np.random.random_sample(deg*np.ones(dim, dtype = int))\n",
    "        HCoeff = np.random.random_sample(deg*np.ones(dim, dtype = int))\n",
    "        ICoeff = np.random.random_sample(deg*np.ones(dim, dtype = int))\n",
    "        JCoeff = np.random.random_sample(deg*np.ones(dim, dtype = int))\n",
    "    elif Type == 'int':\n",
    "        Range = 1000\n",
    "        ACoeff = np.random.randint(-Range,Range,deg*np.ones(dim, dtype = int))\n",
    "        BCoeff = np.random.randint(-Range,Range,deg*np.ones(dim, dtype = int))\n",
    "        CCoeff = np.random.randint(-Range,Range,deg*np.ones(dim, dtype = int))\n",
    "        DCoeff = np.random.randint(-Range,Range,deg*np.ones(dim, dtype = int))\n",
    "        ECoeff = np.random.randint(-Range,Range,deg*np.ones(dim, dtype = int))\n",
    "        FCoeff = np.random.randint(-Range,Range,deg*np.ones(dim, dtype = int))\n",
    "        GCoeff = np.random.randint(-Range,Range,deg*np.ones(dim, dtype = int))\n",
    "        HCoeff = np.random.randint(-Range,Range,deg*np.ones(dim, dtype = int))\n",
    "        ICoeff = np.random.randint(-Range,Range,deg*np.ones(dim, dtype = int))\n",
    "        JCoeff = np.random.randint(-Range,Range,deg*np.ones(dim, dtype = int))\n",
    "\n",
    "    for i,j in np.ndenumerate(ACoeff):\n",
    "        if np.sum(i) >= deg:\n",
    "            ACoeff[i] = 0\n",
    "            BCoeff[i] = 0\n",
    "            CCoeff[i] = 0\n",
    "            DCoeff[i] = 0\n",
    "            ECoeff[i] = 0\n",
    "            FCoeff[i] = 0\n",
    "            GCoeff[i] = 0\n",
    "            HCoeff[i] = 0\n",
    "            ICoeff[i] = 0\n",
    "            JCoeff[i] = 0\n",
    "    if power:\n",
    "        A = MultiPower(ACoeff)\n",
    "        B = MultiPower(BCoeff)\n",
    "        C = MultiPower(CCoeff)\n",
    "        D = MultiPower(DCoeff)\n",
    "        E = MultiPower(ECoeff)\n",
    "        F = MultiPower(FCoeff)\n",
    "        G = MultiPower(GCoeff)\n",
    "        H = MultiPower(HCoeff)\n",
    "        I = MultiPower(ICoeff)\n",
    "        J = MultiPower(JCoeff)\n",
    "    else:\n",
    "        A = MultiCheb(ACoeff)\n",
    "        B = MultiCheb(BCoeff)\n",
    "        C = MultiCheb(CCoeff)\n",
    "        D = MultiCheb(DCoeff)\n",
    "        E = MultiCheb(ECoeff)\n",
    "        F = MultiCheb(FCoeff)\n",
    "        G = MultiCheb(GCoeff)\n",
    "        H = MultiCheb(HCoeff)\n",
    "        I = MultiCheb(ICoeff)\n",
    "        J = MultiCheb(JCoeff)\n",
    "    polys = [A,B,C,D,E,F,G,H,I,J][:dim]\n",
    "    return polys"
   ]
  },
  {
   "cell_type": "markdown",
   "metadata": {},
   "source": [
    "# Test each method\n",
    "    The first 4 lines in the code to test Macaulay and Groebner are commented out. This is to test the same polynomials on\n",
    "    all the methods. These lines can be uncommented to test each method individually.\n",
    "    \n",
    "    \n",
    "## TelenVanBarel"
   ]
  },
  {
   "cell_type": "code",
   "execution_count": 22,
   "metadata": {
    "collapsed": false
   },
   "outputs": [
    {
     "name": "stdout",
     "output_type": "stream",
     "text": [
      "TelenVanBarel run time is 0.015713930130004883 seconds\n",
      "{'adding polys': 0.0, 'create matrix': 0.0, 'reduce matrix': 0.0, 'triangular solve': 0.0, 'basisDict': 0.015713930130004883}\n",
      "Total run time for roots is 0.015713930130004883\n",
      "{'reducePoly': 0, 'buildMatrix': 0, 'multMatrix': 0.0, 'vectorBasis': 0, 'randPoly': 0, 'basis': 0.015713930130004883, 'Eigen': 0.0, 'endStuff': 0.0}\n",
      "25 ZEROS ARE CORRECT OUT OF 25\n",
      "0 of them were about of range\n"
     ]
    }
   ],
   "source": [
    "deg = 5\n",
    "dim = 2\n",
    "power = False\n",
    "polys = polyList(deg,dim,power)\n",
    "zeros = roots(polys, method = 'TVB')\n",
    "\n",
    "correct = 0\n",
    "outOfRange = 0\n",
    "if zeros != -1:\n",
    "    for zero in zeros:\n",
    "        good = True\n",
    "        for poly in polys:\n",
    "            if not np.isclose(0, poly.evaluate_at(zero), atol = 1.e-3):\n",
    "                good = False\n",
    "                if (np.abs(zero) > 1).any():\n",
    "                    outOfRange += 1\n",
    "                else:\n",
    "                    #print(\"ZERO OFF\")\n",
    "                    #print(zero)\n",
    "                    #print(cheb.chebval2d(zero[0],zero[1],poly.coeff))\n",
    "                    pass\n",
    "                break\n",
    "        if good:\n",
    "            correct += 1\n",
    "\n",
    "print(\"{} ZEROS ARE CORRECT OUT OF {}\".format(correct, len(zeros)))\n",
    "print(\"{} of them were about of range\".format(outOfRange))"
   ]
  },
  {
   "cell_type": "markdown",
   "metadata": {},
   "source": [
    "## Macaulay"
   ]
  },
  {
   "cell_type": "code",
   "execution_count": 25,
   "metadata": {
    "collapsed": false
   },
   "outputs": [
    {
     "name": "stdout",
     "output_type": "stream",
     "text": [
      "Total run time for roots is 0.06251382827758789\n",
      "{'reducePoly': 0.0, 'buildMatrix': 0, 'multMatrix': 0.015628576278686523, 'vectorBasis': 0.0, 'randPoly': 0.0, 'basis': 0.04688525199890137, 'Eigen': 0.0, 'endStuff': 0.0}\n",
      "24 ZEROS ARE CORRECT OUT OF 25\n",
      "1 of them were about of range\n"
     ]
    }
   ],
   "source": [
    "#deg = 10\n",
    "#dim = 2\n",
    "#power = False\n",
    "#polys = polyList(deg,dim,power)\n",
    "zeros = roots(polys, method = 'Macaulay')\n",
    "\n",
    "correct = 0\n",
    "outOfRange = 0\n",
    "if zeros != -1:\n",
    "    for zero in zeros:\n",
    "        good = True\n",
    "        for poly in polys:\n",
    "            if not np.isclose(0, poly.evaluate_at(zero), atol = 1.e-3):\n",
    "                good = False\n",
    "                if (np.abs(zero) > 1).any():\n",
    "                    outOfRange += 1\n",
    "                else:\n",
    "                    #print(\"ZERO OFF\")\n",
    "                    #print(zero)\n",
    "                    #print(cheb.chebval2d(zero[0],zero[1],poly.coeff))\n",
    "                    pass\n",
    "                break\n",
    "        if good:\n",
    "            correct += 1\n",
    "\n",
    "print(\"{} ZEROS ARE CORRECT OUT OF {}\".format(correct, len(zeros)))\n",
    "print(\"{} of them were about of range\".format(outOfRange))"
   ]
  },
  {
   "cell_type": "markdown",
   "metadata": {},
   "source": [
    "## Groebner"
   ]
  },
  {
   "cell_type": "code",
   "execution_count": 24,
   "metadata": {
    "collapsed": false
   },
   "outputs": [
    {
     "name": "stdout",
     "output_type": "stream",
     "text": [
      "Run time was 0.16315412521362305 seconds\n",
      "{'initialize': 0.0, 'sort': 0.0, 'clean': 0.0, 'get_poly_from_matrix': 0.0005037784576416016, '_add_poly_to_matrix': 0.0, 'calc_phi': 0.015628814697265625, 'phi_criterion': 0.0, 'calc_r': 0.07851099967956543, 'reduce_matrix': 0.06901431083679199, 'create_matrix': 0.0, 'terms': 0.0, 'fill': 0.0, 'looking': 0.0010633468627929688, 'triangular_solve': 0.0, 'rrqr_reduce': 0.06744718551635742, 'fullRank': 0, 'matrixStuff': 0.03328132629394531, 'sorted_polys_coeff': 0.0, 'buildHeap': 0.0}\n",
      "{'mon_mult_power': 0, 'mon_mult_cheb': 0.07851266860961914, 'updateLeadTerm': 0.0005037784576416016, 'monomialsList': 0, 'leadTermCount': 24, 'cleanCoeff': 0.0, 'initialize': 0.0005037784576416016, 'match_size': 0}\n",
      "{'mon_mult_power': 0, 'mon_mult_cheb': 0.07851266860961914, 'updateLeadTerm': 0.0005037784576416016, 'monomialsList': 0, 'leadTermCount': 24, 'cleanCoeff': 0.0, 'initialize': 0.0005037784576416016, 'match_size': 0}\n",
      "{'mon_mult_power': 0, 'mon_mult_cheb': 0.07851266860961914, 'updateLeadTerm': 0.0005037784576416016, 'monomialsList': 0, 'leadTermCount': 24, 'cleanCoeff': 0.0, 'initialize': 0.0005037784576416016, 'match_size': 0}\n",
      "Total run time for roots is 0.17877864837646484\n",
      "{'reducePoly': 0.015624523162841797, 'buildMatrix': 0, 'multMatrix': 0.015624523162841797, 'vectorBasis': 0.0, 'randPoly': 0.0, 'basis': 0.16315412521362305, 'Eigen': 0.0, 'endStuff': 0.0}\n",
      "25 ZEROS ARE CORRECT OUT OF 25\n",
      "0 of them were about of range\n"
     ]
    }
   ],
   "source": [
    "#deg = 5\n",
    "#dim = 2\n",
    "#power = False\n",
    "#polys = polyList(deg,dim,power)\n",
    "zeros = roots(polys, method = 'Groebner')\n",
    "\n",
    "correct = 0\n",
    "outOfRange = 0\n",
    "if zeros != -1:\n",
    "    for zero in zeros:\n",
    "        good = True\n",
    "        for poly in polys:\n",
    "            if not np.isclose(0, poly.evaluate_at(zero), atol = 1.e-3):\n",
    "                good = False\n",
    "                if (np.abs(zero) > 1).any():\n",
    "                    outOfRange += 1\n",
    "                else:\n",
    "                    #print(\"ZERO OFF\")\n",
    "                    #print(zero)\n",
    "                    #print(cheb.chebval2d(zero[0],zero[1],poly.coeff))\n",
    "                    pass\n",
    "                break\n",
    "        if good:\n",
    "            correct += 1\n",
    "\n",
    "print(\"{} ZEROS ARE CORRECT OUT OF {}\".format(correct, len(zeros)))\n",
    "print(\"{} of them were about of range\".format(outOfRange))"
   ]
  }
 ],
 "metadata": {
  "kernelspec": {
   "display_name": "Python 3",
   "language": "python",
   "name": "python3"
  },
  "language_info": {
   "codemirror_mode": {
    "name": "ipython",
    "version": 3
   },
   "file_extension": ".py",
   "mimetype": "text/x-python",
   "name": "python",
   "nbconvert_exporter": "python",
   "pygments_lexer": "ipython3",
   "version": "3.6.0"
  }
 },
 "nbformat": 4,
 "nbformat_minor": 2
}
